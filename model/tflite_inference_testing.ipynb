{
 "cells": [
  {
   "cell_type": "code",
   "execution_count": 1,
   "metadata": {},
   "outputs": [],
   "source": [
    "import tflite_runtime.interpreter as tflite\n",
    "from enum import Enum\n",
    "import pandas as pd\n",
    "import numpy as np\n",
    "from sklearn.preprocessing import StandardScaler\n",
    "import pickle as pk"
   ]
  },
  {
   "cell_type": "code",
   "execution_count": 2,
   "metadata": {},
   "outputs": [],
   "source": [
    "class Feature(Enum):\n",
    "    MAG_AVG_FIELD = 0\n",
    "    BX_GSE = 1\n",
    "    SIGMA_B = 2\n",
    "    SIGMA_BX = 3\n",
    "    SIGMA_BY = 4\n",
    "    SIGMA_BZ = 5\n",
    "    NA_NP = 6\n",
    "    SIGMA_PHI_V = 7\n",
    "    SIGMA_THETA_V = 8\n",
    "    PROT_FLUX_1 = 11\n",
    "    PROT_FLUX_2 = 12\n",
    "    PROT_FLUX_30 = 13\n",
    "    PROT_FLUX_60 = 14\n",
    "    PC_N = 10\n",
    "    KP = 9\n",
    "\n",
    "# Order of features in the trained model\n",
    "features_order = [f.value for f in Feature]\n",
    "\n",
    "# Load the new downloaded data for the past 24hrs\n",
    "with open('./omni2_cl5f6i8QEF.lst', 'r',) as f:\n",
    "    data = []\n",
    "    for line in f:\n",
    "        data.append(line.split())\n",
    "df = pd.DataFrame(np.array(data, dtype=float))\n",
    "# Remove the date columns\n",
    "df.drop([0,1,2], axis='columns', inplace=True)\n",
    "# Rename the columns\n",
    "df.columns = range(df.shape[1])\n",
    "# Reorder the columns to match the model features order\n",
    "df = df[features_order]"
   ]
  },
  {
   "cell_type": "code",
   "execution_count": 8,
   "metadata": {},
   "outputs": [],
   "source": [
    "def forecast(data):\n",
    "    # Load tflite model\n",
    "    interpreter = tflite.Interpreter(model_path=\"./exports/model.tflite\")\n",
    "    interpreter.allocate_tensors()\n",
    "    input_details = interpreter.get_input_details()\n",
    "    output_details = interpreter.get_output_details()\n",
    "\n",
    "    # Load the standard scaler\n",
    "    scaler = pk.load(open(\"./exports/standard_scaler.pkl\", \"rb\"))\n",
    "\n",
    "    # Scale Kp values from Kp*10 to Kp\n",
    "    df[df.columns[-1]] = df[df.columns[-1]] / 10\n",
    "    # Scale the data except for kp\n",
    "    df[df.columns[:-1]] = scaler.transform(df[df.columns[:-1]])\n",
    "    # Reshape the data to match the model input\n",
    "    data = np.expand_dims(df, axis=0)\n",
    "    interpreter.set_tensor(input_details[0][\"index\"], data.astype(np.float32))\n",
    "    interpreter.invoke()\n",
    "    pred = interpreter.get_tensor(output_details[0][\"index\"]).squeeze()\n",
    "    pred = pred.round()\n",
    "    pred = np.clip(pred, 0, 9)\n",
    "\n",
    "    # Check if any of the predictions are stormy\n",
    "    # storm = (pred >= 5).any()\n",
    "    \n",
    "    return pred"
   ]
  },
  {
   "cell_type": "code",
   "execution_count": 9,
   "metadata": {},
   "outputs": [
    {
     "name": "stderr",
     "output_type": "stream",
     "text": [
      "/home/nour/.local/lib/python3.10/site-packages/sklearn/base.py:493: UserWarning: X does not have valid feature names, but StandardScaler was fitted with feature names\n",
      "  warnings.warn(\n"
     ]
    }
   ],
   "source": [
    "pred = forecast(df)"
   ]
  }
 ],
 "metadata": {
  "kernelspec": {
   "display_name": "Python 3",
   "language": "python",
   "name": "python3"
  },
  "language_info": {
   "codemirror_mode": {
    "name": "ipython",
    "version": 3
   },
   "file_extension": ".py",
   "mimetype": "text/x-python",
   "name": "python",
   "nbconvert_exporter": "python",
   "pygments_lexer": "ipython3",
   "version": "3.10.12"
  }
 },
 "nbformat": 4,
 "nbformat_minor": 2
}
