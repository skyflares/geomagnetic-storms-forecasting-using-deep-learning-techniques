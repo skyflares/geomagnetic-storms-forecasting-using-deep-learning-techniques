{
 "cells": [
  {
   "cell_type": "code",
   "execution_count": 11,
   "metadata": {},
   "outputs": [],
   "source": [
    "import tensorflow as tf"
   ]
  },
  {
   "cell_type": "code",
   "execution_count": 28,
   "metadata": {},
   "outputs": [],
   "source": [
    "model = tf.keras.models.load_model('./exports/model.keras')"
   ]
  },
  {
   "cell_type": "code",
   "execution_count": 30,
   "metadata": {},
   "outputs": [
    {
     "name": "stdout",
     "output_type": "stream",
     "text": [
      "INFO:tensorflow:Assets written to: temp/assets\n"
     ]
    },
    {
     "name": "stderr",
     "output_type": "stream",
     "text": [
      "INFO:tensorflow:Assets written to: temp/assets\n",
      "2024-04-27 11:05:55.123030: W tensorflow/compiler/mlir/lite/python/tf_tfl_flatbuffer_helpers.cc:378] Ignored output_format.\n",
      "2024-04-27 11:05:55.123054: W tensorflow/compiler/mlir/lite/python/tf_tfl_flatbuffer_helpers.cc:381] Ignored drop_control_dependency.\n",
      "2024-04-27 11:05:55.123308: I tensorflow/cc/saved_model/reader.cc:83] Reading SavedModel from: temp\n",
      "2024-04-27 11:05:55.131600: I tensorflow/cc/saved_model/reader.cc:51] Reading meta graph with tags { serve }\n",
      "2024-04-27 11:05:55.131623: I tensorflow/cc/saved_model/reader.cc:146] Reading SavedModel debug info (if present) from: temp\n",
      "2024-04-27 11:05:55.152207: I tensorflow/cc/saved_model/loader.cc:233] Restoring SavedModel bundle.\n",
      "2024-04-27 11:05:55.227976: I tensorflow/cc/saved_model/loader.cc:217] Running initialization op on SavedModel bundle at path: temp\n",
      "2024-04-27 11:05:55.276661: I tensorflow/cc/saved_model/loader.cc:316] SavedModel load for tags { serve }; Status: success: OK. Took 153353 microseconds.\n",
      "Summary on the non-converted ops:\n",
      "---------------------------------\n",
      " * Accepted dialects: tfl, builtin, func\n",
      " * Non-Converted Ops: 38, Total Ops 110, % non-converted = 34.55 %\n",
      " * 38 ARITH ops\n",
      "\n",
      "- arith.constant:   38 occurrences  (f32: 21, i32: 17)\n",
      "\n",
      "  (i1: 2, i32: 2)\n",
      "\n",
      "\n",
      "  (f32: 8, i32: 4)\n",
      "  (f32: 1, i32: 2)\n",
      "  (f32: 6)\n",
      "  (f32: 2)\n",
      "  (i1: 2)\n",
      "  (f32: 4)\n",
      "  (f32: 6)\n",
      "  (f32: 3, i32: 2)\n",
      "  (f32: 2)\n",
      "  (f32: 4)\n",
      "  (f32: 1)\n",
      "  (f32: 2)\n",
      "  (f32: 2)\n",
      "  (i32: 2)\n",
      "\n",
      "2024-04-27 11:05:55.415189: I tensorflow/compiler/mlir/lite/flatbuffer_export.cc:2989] Estimated count of arithmetic ops: 0.238 M  ops, equivalently 0.119 M  MACs\n"
     ]
    }
   ],
   "source": [
    "run_model = tf.function(lambda x: model(x))\n",
    "concrete_func = run_model.get_concrete_function(\n",
    "    tf.TensorSpec((1,24,15), model.inputs[0].dtype)\n",
    ")\n",
    "\n",
    "model.save('temp', signatures=concrete_func)\n",
    "converter = tf.lite.TFLiteConverter.from_saved_model('temp')\n",
    "tflite_model = converter.convert()\n",
    "# Save the model\n",
    "with open(f\"./exports/model.tflite\", \"wb\") as f:\n",
    "    f.write(tflite_model)"
   ]
  }
 ],
 "metadata": {
  "kernelspec": {
   "display_name": "Python 3",
   "language": "python",
   "name": "python3"
  },
  "language_info": {
   "codemirror_mode": {
    "name": "ipython",
    "version": 3
   },
   "file_extension": ".py",
   "mimetype": "text/x-python",
   "name": "python",
   "nbconvert_exporter": "python",
   "pygments_lexer": "ipython3",
   "version": "3.10.12"
  }
 },
 "nbformat": 4,
 "nbformat_minor": 2
}
